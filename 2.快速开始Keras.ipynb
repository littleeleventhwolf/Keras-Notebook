{
 "cells": [
  {
   "cell_type": "markdown",
   "metadata": {},
   "source": [
    "# 一些基本概念\n",
    "\n",
    "在开始学习Keras之前，我们希望传递一些关于Keras，关于深度学习的基本概念和技术，我们建议新手在使用Keras之前浏览一下本页面提到的内容，这将减少你学习中的困惑。\n",
    "\n",
    "# 符号计算\n",
    "\n",
    "Keras的底层库使用Theano或TensorFlow，这两个库也称为Keras的后端。无论是Theano还是TensorFlow，都是一个\"符号主义\"的库。\n",
    "\n",
    "因此，这也使得Keras的编程与传统的Python代码有所差别。笼统的说，符号主义的计算首先定义各种变量，然后建立一个\"计算图\"，计算图规定了各个变量之间的计算关系。建立好的计算图需要编译以确定其内部细节，然而，此时的计算图还是一个\"空壳子\"，里面没有任何实际的数据，只有当你把需要运算的输入放进去后，才能在整个模型中形成数据流，从而形成输出值。\n",
    "\n",
    "Keras的模型搭建形式就是这种方法，在你搭建Keras模型完毕后，你的模型就是一个空壳子，只有实际生成可调用的函数后(K.function)，输入数据，才会形成真正的数据流。\n",
    "\n",
    "使用计算图的语言，如Theano，以难以调试而闻名，当Keras的Debug进入Theano这个层次时，往往也令人头痛。没有经验的开发者很难直观的感受到计算图到底在干些什么。尽管很让人头痛，但大多数的深度学习框架使用的都是符号计算这一套方法，因为符号计算能够提供关键的计算优化、自动求导等功能。\n",
    "\n",
    "建议你在使用前稍微了解一下Theano或TensorFlow，Bing/Google一下即可。\n",
    "\n",
    "# 张量\n",
    "\n",
    "张量，或tensor，是本文档会经常出现的一个词汇，在此稍作解释。\n",
    "\n",
    "使用这个词汇的目的是为了表述统一，张量可以看做是向量、矩阵的自然推广，我们用张量来表示广泛的数据类型。\n",
    "\n",
    "规模最小的张量是0阶张量，即标量，也就是一个数。\n",
    "\n",
    "当我们把一些数有序的排列起来，就形成了1阶张量，也就是一个向量。\n",
    "\n",
    "如果我们继续把一组向量有序的排列起来，就形成了2阶张量，也就是矩阵。\n",
    "\n",
    "把矩阵摞起来，就是3阶张量，我们可以称为一个立方体，具有3个颜色通道的彩色图片就是一个这样的立方体。\n",
    "\n",
    "把立方体摞起来，好吧，这次我们真的没有给它起别名了，就叫4阶张量了，不要去试图想象4阶张量是什么样子，它就是个数学上的概念。\n",
    "\n",
    "张量的阶数有时候也称为维度，或者轴，轴这个词翻译自英文的axis。譬如一个矩阵[[1, 2], [3, 4]]，是一个2阶张量，有两个维度或轴，沿着第0个轴(为了与Python的计数方式一致，本文档维度和轴从0算起)你看到的是[1, 2], [3, 4]两个向量，沿着第1个轴你看到的是[1, 3], [2, 4]两个向量。\n",
    "\n",
    "要理解\"沿着某个轴\"是什么意思，不妨试着运行一下下面的代码："
   ]
  },
  {
   "cell_type": "code",
   "execution_count": 1,
   "metadata": {
    "collapsed": false
   },
   "outputs": [
    {
     "name": "stdout",
     "output_type": "stream",
     "text": [
      "[4 6]\n",
      "[3 7]\n"
     ]
    }
   ],
   "source": [
    "import numpy as np\n",
    "\n",
    "a = np.array([[1, 2], [3, 4]])\n",
    "sum0 = np.sum(a, axis=0)\n",
    "sum1 = np.sum(a, axis=1)\n",
    "\n",
    "print(sum0)\n",
    "print(sum1)"
   ]
  },
  {
   "cell_type": "markdown",
   "metadata": {},
   "source": [
    "关于张量，目前知道这么多就足够了。"
   ]
  }
 ],
 "metadata": {
  "kernelspec": {
   "display_name": "Python 2",
   "language": "python",
   "name": "python2"
  },
  "language_info": {
   "codemirror_mode": {
    "name": "ipython",
    "version": 2
   },
   "file_extension": ".py",
   "mimetype": "text/x-python",
   "name": "python",
   "nbconvert_exporter": "python",
   "pygments_lexer": "ipython2",
   "version": "2.7.12"
  }
 },
 "nbformat": 4,
 "nbformat_minor": 1
}
